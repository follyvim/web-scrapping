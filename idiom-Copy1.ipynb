{
 "cells": [
  {
   "cell_type": "code",
   "execution_count": 14,
   "id": "eccca0d7-60e3-42ad-b1d5-7573902b4f20",
   "metadata": {},
   "outputs": [],
   "source": [
    "import selenium\n",
    "import time\n",
    "from selenium import webdriver\n",
    "from selenium.webdriver.support.ui import WebDriverWait\n",
    "from selenium.webdriver.common.keys import Keys\n",
    "import os\n",
    "import time\n",
    "import random\n",
    "import pandas as pd\n",
    "import numpy\n",
    "from selenium.common.exceptions import NoSuchElementException\n",
    "import warnings\n",
    "warnings.filterwarnings('ignore')\n",
    "\n",
    "\n",
    "path = r\"C:\\Users\\folas\\Downloads\\Dataset\\selenium\\chromedriver.exe\"\n",
    "driver = webdriver.Chrome(path)\n",
    "driver.get('https://naijauto.com/market-news/names-of-cars-with-pictures-2320')#('https://naijaquest.com/nigeria-current-affairs/')#('https://www.projecttopics.org/2019-2020-nigeria-current-affairs-quiz-questions-answers.html')\n"
   ]
  },
  {
   "cell_type": "code",
   "execution_count": 24,
   "id": "f7a60d74-e516-4f97-9927-d6f33e27f7dc",
   "metadata": {},
   "outputs": [
    {
     "name": "stdout",
     "output_type": "stream",
     "text": [
      "(83, 1)\n"
     ]
    }
   ],
   "source": [
    "df = pd.DataFrame()\n",
    "wor= driver.find_elements_by_tag_name('strong')\n",
    "for word in wor:\n",
    "    proverb = word.text\n",
    "    #print(proverb)\n",
    "    proverr = proverb.split(' Alfa Romeo')[0]\n",
    "    proverr = proverr.split('Aston Martin')[0]\n",
    "    prov = proverr.split('>>>')[0]\n",
    "    prov = prov.split('16 Best car brands in the world 2021 ')[0]\n",
    "    prov = prov.split('Top 10 ')[0]\n",
    "    prov = prov.split('*')[0]\n",
    "    prov = prov.split('German cars:')[0]\n",
    "    prov = prov.split('Jeff Bezos cars:')[0]\n",
    "    prov = prov.split('The most expensive')[0]\n",
    "    prov = prov.split('the most famous Nigerian')[0]\n",
    "    prov = prov.split('No')[0]\n",
    "    prov = prov.split('Model')[0]\n",
    "    prov = prov.split('Nickname')[0]\n",
    "    prov = prov.split('9. Conclusion')[0]\n",
    "    prov = prov.split('names of cars with pictures')[0]\n",
    "    prov = prov.split('Naijauto')[0]\n",
    "    prov = prov.split('Types of cars with pictures')[0]\n",
    "    prov = prov.split('of different kinds of cars')[0]\n",
    "    prov = prov.split('10 richest men in Nigeria 2021 & their cars')[0]\n",
    "    prov = prov.split('best small cars in Nigeria')[0]\n",
    "    #print (prov)\n",
    "    # saving into csv file\n",
    "    df = df.append({\"Car's name\" : prov}, ignore_index = True)\n",
    "    \n",
    "df.reset_index()\n",
    "print(df.shape)\n",
    "\n",
    "df.to_csv(\"Car's name.csv\", index = False)\n",
    "df = pd.read_csv(\"Car's name.csv\")\n",
    "df = df.append({\"Car's name\" : prov}, ignore_index = True)"
   ]
  },
  {
   "cell_type": "code",
   "execution_count": null,
   "id": "563e0726-e82b-4546-a99b-bd552dc34cc2",
   "metadata": {},
   "outputs": [],
   "source": []
  }
 ],
 "metadata": {
  "kernelspec": {
   "display_name": "Python 3",
   "language": "python",
   "name": "python3"
  },
  "language_info": {
   "codemirror_mode": {
    "name": "ipython",
    "version": 3
   },
   "file_extension": ".py",
   "mimetype": "text/x-python",
   "name": "python",
   "nbconvert_exporter": "python",
   "pygments_lexer": "ipython3",
   "version": "3.8.8"
  }
 },
 "nbformat": 4,
 "nbformat_minor": 5
}
